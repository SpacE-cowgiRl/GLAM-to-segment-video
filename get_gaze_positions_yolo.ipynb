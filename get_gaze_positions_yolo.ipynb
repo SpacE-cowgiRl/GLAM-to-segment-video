{
 "cells": [
  {
   "cell_type": "code",
   "execution_count": null,
   "id": "initial_id",
   "metadata": {
    "ExecuteTime": {
     "end_time": "2024-08-09T01:41:42.313373Z",
     "start_time": "2024-08-09T01:41:40.099416Z"
    }
   },
   "outputs": [],
   "source": [
    "import pandas as pd\n",
    "import cv2\n",
    "import matplotlib.pyplot as plt\n",
    "import json\n",
    "import numpy as np\n",
    "import torch\n",
    "from ultralytics import YOLO\n",
    "import matplotlib.path as mplPath\n",
    "from tqdm import tqdm"
   ]
  },
  {
   "cell_type": "code",
   "execution_count": null,
   "id": "a52f9e7d634a6970",
   "metadata": {
    "ExecuteTime": {
     "end_time": "2024-08-09T01:41:43.361090Z",
     "start_time": "2024-08-09T01:41:43.358618Z"
    }
   },
   "outputs": [],
   "source": [
    "world_raw_path = '/home/lnt/PycharmProjects/analyze_gaze/world_raw.mp4'\n",
    "world_output_path = '/home/lnt/PycharmProjects/analyze_gaze/world_output.mp4'"
   ]
  },
  {
   "cell_type": "code",
   "execution_count": null,
   "id": "25f6f17ba4e207f9",
   "metadata": {
    "ExecuteTime": {
     "end_time": "2024-08-09T01:42:29.615469Z",
     "start_time": "2024-08-09T01:42:29.508997Z"
    }
   },
   "outputs": [],
   "source": [
    "gaze_positions_df = pd.read_csv('/home/lnt/PycharmProjects/analyze_gaze/gaze_positions.csv')\n",
    "gaze_positions_df"
   ]
  },
  {
   "cell_type": "code",
   "execution_count": null,
   "id": "6a13618f3fed8213",
   "metadata": {
    "ExecuteTime": {
     "end_time": "2024-08-09T01:43:00.757695Z",
     "start_time": "2024-08-09T01:43:00.754442Z"
    }
   },
   "outputs": [],
   "source": [
    "gaze_positions_df['norm_pos_x'].iloc[2] * 1088, (1-gaze_positions_df['norm_pos_y'].iloc[2]) * 1080"
   ]
  },
  {
   "cell_type": "code",
   "execution_count": null,
   "id": "5ae3d75c887bd46c",
   "metadata": {
    "ExecuteTime": {
     "end_time": "2024-05-31T03:31:49.817086Z",
     "start_time": "2024-05-31T03:31:49.763850Z"
    }
   },
   "outputs": [],
   "source": [
    "world_raw_cap = cv2.VideoCapture(world_raw_path)\n",
    "world_output_cap = cv2.VideoCapture(world_output_path)"
   ]
  },
  {
   "cell_type": "code",
   "execution_count": null,
   "id": "b544efeaf7ba4d72",
   "metadata": {
    "ExecuteTime": {
     "end_time": "2024-05-31T03:31:50.525233Z",
     "start_time": "2024-05-31T03:31:50.447928Z"
    }
   },
   "outputs": [],
   "source": [
    "world_raw_cap.set(cv2.CAP_PROP_POS_FRAMES, 0)\n",
    "world_output_cap.set(cv2.CAP_PROP_POS_FRAMES, 22)"
   ]
  },
  {
   "cell_type": "code",
   "execution_count": null,
   "id": "481af38caa9862f4",
   "metadata": {
    "ExecuteTime": {
     "end_time": "2024-05-31T03:31:51.481071Z",
     "start_time": "2024-05-31T03:31:51.461258Z"
    }
   },
   "outputs": [],
   "source": [
    "ret, world_raw_frame = world_raw_cap.read()\n",
    "ret, world_output_frame = world_output_cap.read()"
   ]
  },
  {
   "cell_type": "code",
   "execution_count": null,
   "id": "723b3f2cec5c6dae",
   "metadata": {
    "ExecuteTime": {
     "end_time": "2024-05-31T03:32:03.413415Z",
     "start_time": "2024-05-31T03:32:03.409279Z"
    }
   },
   "outputs": [],
   "source": [
    "with open(\"scene_camera.json\", \"r\") as f:\n",
    "    data = json.load(f)\n",
    "\n",
    "pupil_camera_matrix = np.array(data[\"camera_matrix\"])\n",
    "pupil_dist_coeffs = np.array(data[\"dist_coefs\"])"
   ]
  },
  {
   "cell_type": "code",
   "execution_count": null,
   "id": "cd2a6bf1d710835f",
   "metadata": {
    "ExecuteTime": {
     "end_time": "2024-05-31T03:32:09.654999Z",
     "start_time": "2024-05-31T03:32:09.536890Z"
    }
   },
   "outputs": [],
   "source": [
    "model = YOLO('yolov8x-seg.pt')"
   ]
  },
  {
   "cell_type": "code",
   "execution_count": null,
   "id": "cab9c4dc-ad72-4cea-bd5f-ba5578bfdbd2",
   "metadata": {},
   "outputs": [],
   "source": [
    "num_rows = gaze_positions_df.shape[0]\n",
    "\n",
    "world_img = None\n",
    "gazed_data = []\n",
    "mask_data = []\n",
    "fourcc = cv2.VideoWriter_fourcc(*'mp4v')  # 指定编码格式\n",
    "out0 = cv2.VideoWriter(world_output_path, fourcc, 30.0, (1280, 720))\n",
    "\n",
    "previous_world_index = -1  # 初始化为一个不可能的索引值\n",
    "\n",
    "for row_n in tqdm(range(num_rows)):\n",
    "    row = gaze_positions_df.loc[row_n]\n",
    "    current_world_index = row['world_index']\n",
    "\n",
    "    # 当 world_index 改变时，重新处理图像\n",
    "    if current_world_index != previous_world_index:\n",
    "        ret, world_img = world_raw_cap.read()\n",
    "        \n",
    "        # 检查是否读取成功\n",
    "        if not ret or world_img is None:\n",
    "            print(f\"Failed to read frame {current_world_index}.\")\n",
    "            # 尝试重新初始化视频捕获对象\n",
    "            world_raw_cap.release()\n",
    "            world_raw_cap = cv2.VideoCapture(world_raw_path)\n",
    "            world_raw_cap.set(cv2.CAP_PROP_POS_FRAMES, current_world_index + 1)\n",
    "            continue  # 跳过这个帧并继续处理下一个帧\n",
    "\n",
    "            \n",
    "        # 如果图像有效，使用模型处理\n",
    "        else:\n",
    "            results = model.track(world_img, verbose=False, classes=[0, 1, 2, 3, 5, 7, 9, 11, 30], persist=True, conf=0.7)[0]\n",
    "            result = results.plot()\n",
    "\n",
    "    # 计算 gaze 点的实际坐标\n",
    "    x = int(row['norm_pos_x'] * world_img.shape[1])\n",
    "    y = int((1 - row['norm_pos_y']) * world_img.shape[0])\n",
    "\n",
    "    # 判断 gaze 点是否落在某个物体的掩码区域内\n",
    "    if results.masks is not None:\n",
    "        for mid, xy in enumerate(results.masks.xy):\n",
    "            poly_path = mplPath.Path(xy)\n",
    "            if poly_path.contains_point((x, y)):\n",
    "                cls = results.boxes.cls.cpu().tolist()[mid]\n",
    "\n",
    "                if results.boxes.id is not None:\n",
    "                    bid = results.boxes.id.cpu().tolist()[mid]\n",
    "                else:\n",
    "                    bid = None  # 或者您可以选择跳过或记录这个情况\n",
    "                    print(f\"No ID for object at index {mid} in frame {row['world_index']}\")\n",
    "\n",
    "                name = results.names[cls]\n",
    "                gazed_data.append({\n",
    "                    'index': row.name, 'timestamp': row['gaze_timestamp'], 'frame': row['world_index'], \n",
    "                    'name': name, 'x': x, 'y': y, 'cls': cls, 'bid': bid\n",
    "                })\n",
    "\n",
    "                \n",
    "    # 在图像上绘制 gaze 点\n",
    "    cv2.circle(world_img, (x, y), 30, (0, 255, 0), -1)\n",
    "    cv2.circle(world_img, (x, y), 10, (255, 255, 0), -1)\n",
    "\n",
    "    # 仅在 world_index 改变时将处理后的图像写入视频\n",
    "    if current_world_index != previous_world_index:\n",
    "        out0.write(world_img)\n",
    "    \n",
    "    # 更新 previous_world_index\n",
    "    previous_world_index = current_world_index\n",
    "\n",
    "out0.release()"
   ]
  },
  {
   "cell_type": "code",
   "execution_count": null,
   "id": "376aba7ea6cedf42",
   "metadata": {
    "ExecuteTime": {
     "end_time": "2024-05-28T09:28:04.981904Z",
     "start_time": "2024-05-28T09:28:04.973025Z"
    }
   },
   "outputs": [],
   "source": [
    "gazed_df = pd.DataFrame(gazed_data)\n",
    "gazed_df"
   ]
  },
  {
   "cell_type": "code",
   "execution_count": null,
   "id": "1f55131f9f773226",
   "metadata": {
    "ExecuteTime": {
     "end_time": "2024-05-28T09:29:02.691759Z",
     "start_time": "2024-05-28T09:29:02.688197Z"
    }
   },
   "outputs": [],
   "source": [
    "gazed_df.to_csv('gazed.csv')"
   ]
  }
 ],
 "metadata": {
  "kernelspec": {
   "display_name": "Python 3 (ipykernel)",
   "language": "python",
   "name": "python3"
  },
  "language_info": {
   "codemirror_mode": {
    "name": "ipython",
    "version": 3
   },
   "file_extension": ".py",
   "mimetype": "text/x-python",
   "name": "python",
   "nbconvert_exporter": "python",
   "pygments_lexer": "ipython3",
   "version": "3.10.9"
  }
 },
 "nbformat": 4,
 "nbformat_minor": 5
}
